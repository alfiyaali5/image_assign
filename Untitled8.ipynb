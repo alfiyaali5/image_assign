{
 "cells": [
  {
   "cell_type": "code",
   "execution_count": 1,
   "id": "b5940789",
   "metadata": {},
   "outputs": [
    {
     "name": "stdout",
     "output_type": "stream",
     "text": [
      "Error: Could not load advertisement image.\n"
     ]
    },
    {
     "ename": "AttributeError",
     "evalue": "'NoneType' object has no attribute 'shape'",
     "output_type": "error",
     "traceback": [
      "\u001b[1;31m---------------------------------------------------------------------------\u001b[0m",
      "\u001b[1;31mAttributeError\u001b[0m                            Traceback (most recent call last)",
      "Cell \u001b[1;32mIn[1], line 14\u001b[0m\n\u001b[0;32m     11\u001b[0m     exit()\n\u001b[0;32m     13\u001b[0m \u001b[38;5;66;03m# Check if the advertisement image has valid dimensions\u001b[39;00m\n\u001b[1;32m---> 14\u001b[0m \u001b[38;5;28;01mif\u001b[39;00m ad_image\u001b[38;5;241m.\u001b[39mshape[\u001b[38;5;241m0\u001b[39m] \u001b[38;5;241m==\u001b[39m \u001b[38;5;241m0\u001b[39m \u001b[38;5;129;01mor\u001b[39;00m ad_image\u001b[38;5;241m.\u001b[39mshape[\u001b[38;5;241m1\u001b[39m] \u001b[38;5;241m==\u001b[39m \u001b[38;5;241m0\u001b[39m:\n\u001b[0;32m     15\u001b[0m     \u001b[38;5;28mprint\u001b[39m(\u001b[38;5;124m\"\u001b[39m\u001b[38;5;124mError: Invalid dimensions for advertisement image.\u001b[39m\u001b[38;5;124m\"\u001b[39m)\n\u001b[0;32m     16\u001b[0m     exit()\n",
      "\u001b[1;31mAttributeError\u001b[0m: 'NoneType' object has no attribute 'shape'"
     ]
    }
   ],
   "source": [
    "import cv2\n",
    "import numpy as np\n",
    "\n",
    "# Load input video and advertisement image\n",
    "video = cv2.VideoCapture('video.mp4')\n",
    "ad_image = cv2.imread('image.jpg')\n",
    "\n",
    "# Check if the advertisement image loaded successfully\n",
    "if ad_image is None:\n",
    "    print(\"Error: Could not load advertisement image.\")\n",
    "    exit()\n",
    "\n",
    "# Check if the advertisement image has valid dimensions\n",
    "if ad_image.shape[0] == 0 or ad_image.shape[1] == 0:\n",
    "    print(\"Error: Invalid dimensions for advertisement image.\")\n",
    "    exit()\n",
    "\n",
    "# Get dimensions of the input video\n",
    "frame_width = int(video.get(cv2.CAP_PROP_FRAME_WIDTH))\n",
    "frame_height = int(video.get(cv2.CAP_PROP_FRAME_HEIGHT))\n",
    "\n",
    "# Check if video dimensions are valid\n",
    "if frame_width == 0 or frame_height == 0:\n",
    "    print(\"Error: Invalid dimensions for input video.\")\n",
    "    exit()\n",
    "\n",
    "# Define output video writer\n",
    "output13_video = cv2.VideoWriter('output13_video.mp4', cv2.VideoWriter_fourcc(*'MP4V'), 30, (frame_width, frame_height))\n",
    "\n",
    "# Define function for occlusion detection and handling\n",
    "def handle_occlusions(video_frame, ad_image):\n",
    "    # Resize advertisement image to fit desired dimensions\n",
    "    ad_image_resized = cv2.resize(ad_image, (int(frame_width/4), int(frame_height/4)))  # Make the image smaller\n",
    "    \n",
    "    # Calculate coordinates for placing advertisement image in upper right corner\n",
    "    ad_x_offset = frame_width - ad_image_resized.shape[1] - 50\n",
    "    ad_y_offset = 50\n",
    "    \n",
    "    # Overlay the advertisement image onto the video frame\n",
    "    video_frame[ad_y_offset:ad_y_offset+ad_image_resized.shape[0], ad_x_offset:ad_x_offset+ad_image_resized.shape[1]] = ad_image_resized\n",
    "    \n",
    "    return video_frame\n",
    "\n",
    "# Iterate through each frame of the input video\n",
    "while True:\n",
    "    ret, frame = video.read()\n",
    "    if not ret:\n",
    "        break\n",
    "    \n",
    "    # Check if the frame is empty\n",
    "    if frame is None:\n",
    "        print(\"Warning: Empty frame detected.\")\n",
    "        continue\n",
    "    \n",
    "    # Apply occlusion detection and handling strategy\n",
    "    modified_frame = handle_occlusions(frame.copy(), ad_image)\n",
    "    \n",
    "    # Write modified frame with ad image inserted to output video\n",
    "    output13_video.write(modified_frame)\n",
    "\n",
    "# Release input and output video objects\n",
    "video.release()\n",
    "output13_video.release()\n"
   ]
  },
  {
   "cell_type": "code",
   "execution_count": null,
   "id": "ee9939aa",
   "metadata": {},
   "outputs": [],
   "source": []
  }
 ],
 "metadata": {
  "kernelspec": {
   "display_name": "Python 3 (ipykernel)",
   "language": "python",
   "name": "python3"
  },
  "language_info": {
   "codemirror_mode": {
    "name": "ipython",
    "version": 3
   },
   "file_extension": ".py",
   "mimetype": "text/x-python",
   "name": "python",
   "nbconvert_exporter": "python",
   "pygments_lexer": "ipython3",
   "version": "3.11.5"
  }
 },
 "nbformat": 4,
 "nbformat_minor": 5
}
